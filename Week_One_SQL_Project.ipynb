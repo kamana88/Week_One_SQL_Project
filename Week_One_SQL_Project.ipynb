{
  "nbformat": 4,
  "nbformat_minor": 0,
  "metadata": {
    "colab": {
      "provenance": []
    },
    "kernelspec": {
      "name": "python3",
      "display_name": "Python 3"
    },
    "language_info": {
      "name": "python"
    }
  },
  "cells": [
    {
      "cell_type": "code",
      "execution_count": 1,
      "metadata": {
        "id": "BCl2YCLCn-F8"
      },
      "outputs": [],
      "source": [
        "%load_ext sql"
      ]
    },
    {
      "cell_type": "code",
      "source": [
        "%sql sqlite:///table_gen.db"
      ],
      "metadata": {
        "id": "gy_tnkVlY2Uk"
      },
      "execution_count": 2,
      "outputs": []
    },
    {
      "cell_type": "markdown",
      "source": [
        "**village_locations table**"
      ],
      "metadata": {
        "id": "L-sWk7q0Zg84"
      }
    },
    {
      "cell_type": "code",
      "source": [
        "%%sql CREATE TABLE village_locations (\n",
        "    village_id INTEGER NOT NULL PRIMARY KEY,\n",
        "    village VARCHAR(30) NOT NULL,\n",
        "    latitude VARCHAR(30),\n",
        "    longitude VARCHAR(30),\n",
        "    total_population INTEGER\n",
        ")"
      ],
      "metadata": {
        "colab": {
          "base_uri": "https://localhost:8080/"
        },
        "id": "P7tKkOFQZxCj",
        "outputId": "34512aa5-15b5-4a79-c92d-869240a6501a"
      },
      "execution_count": 10,
      "outputs": [
        {
          "output_type": "stream",
          "name": "stdout",
          "text": [
            " * sqlite:///table_gen.db\n",
            "Done.\n"
          ]
        },
        {
          "output_type": "execute_result",
          "data": {
            "text/plain": [
              "[]"
            ]
          },
          "metadata": {},
          "execution_count": 10
        }
      ]
    },
    {
      "cell_type": "code",
      "source": [
        "%%sql INSERT INTO village_locations (village_id, village, latitude, longitude, total_population)VALUES\n",
        "(1,'Dharkenley','4°47''35.40\"','45°12''28.80\"',12800),\n",
        "(2,'Bulo-Kahin','4°47''57.00\"','45°11''5.70\"',9485),\n",
        "(3,'Hilo Kelyo','4°47''57.00\"','45°12''58.60\"',5212),\n",
        "(4,'Xubow','4°46''46.77\"','45°12''7.57\"',2558),\n",
        "(5,'Xiintooy','4°44''14.40\"','45°13''5.00\"',3850),\n",
        "(6,'Dhagax Jebis','4°44''27.86\"','45°12''42.03\"',3563),\n",
        "(7,'Filtare','4°44''20.43\"','45°12''27.89\"',8000),\n",
        "(8,'Howl-Wadaag','4°43''50.00\"','45°11''58.20\"',7525),\n",
        "(9,'Balcad','2°21.624''','45°23.928''',1500),\n",
        "(10,'Mareeray','2°23.504''','45°25.200''',7500),\n",
        "(11,'Kulmis','2°36.761''','45°30.642''',6058),\n",
        "(12,'Sabuun','2°53.020''','45°32.356''',5483),\n",
        "(13,'Bayaxaw','2°44.768''','45°29.727''',3000),\n",
        "(14,'Bayaxawo','2°44.768''','45°29.926''',7560);"
      ],
      "metadata": {
        "colab": {
          "base_uri": "https://localhost:8080/"
        },
        "id": "K6TxvJTKaCAI",
        "outputId": "27699252-42a4-497f-ae4a-91d7e6838883"
      },
      "execution_count": 11,
      "outputs": [
        {
          "output_type": "stream",
          "name": "stdout",
          "text": [
            " * sqlite:///table_gen.db\n",
            "14 rows affected.\n"
          ]
        },
        {
          "output_type": "execute_result",
          "data": {
            "text/plain": [
              "[]"
            ]
          },
          "metadata": {},
          "execution_count": 11
        }
      ]
    },
    {
      "cell_type": "code",
      "source": [
        "%sql SELECT * FROM village_locations;"
      ],
      "metadata": {
        "colab": {
          "base_uri": "https://localhost:8080/",
          "height": 368
        },
        "id": "DF6HjkWPf7fA",
        "outputId": "178ca1d1-cbcf-4edd-fcb4-0e8a851c1758"
      },
      "execution_count": 20,
      "outputs": [
        {
          "output_type": "stream",
          "name": "stdout",
          "text": [
            " * sqlite:///table_gen.db\n",
            "Done.\n"
          ]
        },
        {
          "output_type": "execute_result",
          "data": {
            "text/plain": [
              "[(1, 'Dharkenley', '4°47\\'35.40\"', '45°12\\'28.80\"', 12800),\n",
              " (2, 'Bulo-Kahin', '4°47\\'57.00\"', '45°11\\'5.70\"', 9485),\n",
              " (3, 'Hilo Kelyo', '4°47\\'57.00\"', '45°12\\'58.60\"', 5212),\n",
              " (4, 'Xubow', '4°46\\'46.77\"', '45°12\\'7.57\"', 2558),\n",
              " (5, 'Xiintooy', '4°44\\'14.40\"', '45°13\\'5.00\"', 3850),\n",
              " (6, 'Dhagax Jebis', '4°44\\'27.86\"', '45°12\\'42.03\"', 3563),\n",
              " (7, 'Filtare', '4°44\\'20.43\"', '45°12\\'27.89\"', 8000),\n",
              " (8, 'Howl-Wadaag', '4°43\\'50.00\"', '45°11\\'58.20\"', 7525),\n",
              " (9, 'Balcad', \"2°21.624'\", \"45°23.928'\", 1500),\n",
              " (10, 'Mareeray', \"2°23.504'\", \"45°25.200'\", 7500),\n",
              " (11, 'Kulmis', \"2°36.761'\", \"45°30.642'\", 6058),\n",
              " (12, 'Sabuun', \"2°53.020'\", \"45°32.356'\", 5483),\n",
              " (13, 'Bayaxaw', \"2°44.768'\", \"45°29.727'\", 3000),\n",
              " (14, 'Bayaxawo', \"2°44.768'\", \"45°29.926'\", 7560)]"
            ],
            "text/html": [
              "<table>\n",
              "    <thead>\n",
              "        <tr>\n",
              "            <th>village_id</th>\n",
              "            <th>village</th>\n",
              "            <th>latitude</th>\n",
              "            <th>longitude</th>\n",
              "            <th>total_population</th>\n",
              "        </tr>\n",
              "    </thead>\n",
              "    <tbody>\n",
              "        <tr>\n",
              "            <td>1</td>\n",
              "            <td>Dharkenley</td>\n",
              "            <td>4°47&#x27;35.40&quot;</td>\n",
              "            <td>45°12&#x27;28.80&quot;</td>\n",
              "            <td>12800</td>\n",
              "        </tr>\n",
              "        <tr>\n",
              "            <td>2</td>\n",
              "            <td>Bulo-Kahin</td>\n",
              "            <td>4°47&#x27;57.00&quot;</td>\n",
              "            <td>45°11&#x27;5.70&quot;</td>\n",
              "            <td>9485</td>\n",
              "        </tr>\n",
              "        <tr>\n",
              "            <td>3</td>\n",
              "            <td>Hilo Kelyo</td>\n",
              "            <td>4°47&#x27;57.00&quot;</td>\n",
              "            <td>45°12&#x27;58.60&quot;</td>\n",
              "            <td>5212</td>\n",
              "        </tr>\n",
              "        <tr>\n",
              "            <td>4</td>\n",
              "            <td>Xubow</td>\n",
              "            <td>4°46&#x27;46.77&quot;</td>\n",
              "            <td>45°12&#x27;7.57&quot;</td>\n",
              "            <td>2558</td>\n",
              "        </tr>\n",
              "        <tr>\n",
              "            <td>5</td>\n",
              "            <td>Xiintooy</td>\n",
              "            <td>4°44&#x27;14.40&quot;</td>\n",
              "            <td>45°13&#x27;5.00&quot;</td>\n",
              "            <td>3850</td>\n",
              "        </tr>\n",
              "        <tr>\n",
              "            <td>6</td>\n",
              "            <td>Dhagax Jebis</td>\n",
              "            <td>4°44&#x27;27.86&quot;</td>\n",
              "            <td>45°12&#x27;42.03&quot;</td>\n",
              "            <td>3563</td>\n",
              "        </tr>\n",
              "        <tr>\n",
              "            <td>7</td>\n",
              "            <td>Filtare</td>\n",
              "            <td>4°44&#x27;20.43&quot;</td>\n",
              "            <td>45°12&#x27;27.89&quot;</td>\n",
              "            <td>8000</td>\n",
              "        </tr>\n",
              "        <tr>\n",
              "            <td>8</td>\n",
              "            <td>Howl-Wadaag</td>\n",
              "            <td>4°43&#x27;50.00&quot;</td>\n",
              "            <td>45°11&#x27;58.20&quot;</td>\n",
              "            <td>7525</td>\n",
              "        </tr>\n",
              "        <tr>\n",
              "            <td>9</td>\n",
              "            <td>Balcad</td>\n",
              "            <td>2°21.624&#x27;</td>\n",
              "            <td>45°23.928&#x27;</td>\n",
              "            <td>1500</td>\n",
              "        </tr>\n",
              "        <tr>\n",
              "            <td>10</td>\n",
              "            <td>Mareeray</td>\n",
              "            <td>2°23.504&#x27;</td>\n",
              "            <td>45°25.200&#x27;</td>\n",
              "            <td>7500</td>\n",
              "        </tr>\n",
              "        <tr>\n",
              "            <td>11</td>\n",
              "            <td>Kulmis</td>\n",
              "            <td>2°36.761&#x27;</td>\n",
              "            <td>45°30.642&#x27;</td>\n",
              "            <td>6058</td>\n",
              "        </tr>\n",
              "        <tr>\n",
              "            <td>12</td>\n",
              "            <td>Sabuun</td>\n",
              "            <td>2°53.020&#x27;</td>\n",
              "            <td>45°32.356&#x27;</td>\n",
              "            <td>5483</td>\n",
              "        </tr>\n",
              "        <tr>\n",
              "            <td>13</td>\n",
              "            <td>Bayaxaw</td>\n",
              "            <td>2°44.768&#x27;</td>\n",
              "            <td>45°29.727&#x27;</td>\n",
              "            <td>3000</td>\n",
              "        </tr>\n",
              "        <tr>\n",
              "            <td>14</td>\n",
              "            <td>Bayaxawo</td>\n",
              "            <td>2°44.768&#x27;</td>\n",
              "            <td>45°29.926&#x27;</td>\n",
              "            <td>7560</td>\n",
              "        </tr>\n",
              "    </tbody>\n",
              "</table>"
            ]
          },
          "metadata": {},
          "execution_count": 20
        }
      ]
    },
    {
      "cell_type": "markdown",
      "source": [
        "**beneficiary_partner_data table**"
      ],
      "metadata": {
        "id": "yzawOsMvdrmt"
      }
    },
    {
      "cell_type": "code",
      "source": [
        "%%sql CREATE TABLE beneficiary_partner_data (\n",
        "partner_id INTEGER NOT NULL PRIMARY KEY,\n",
        "partner VARCHAR(30) NOT NULL,\n",
        "village VARCHAR(30) NOT NULL,\n",
        "beneficiaries INTEGER,\n",
        "beneficiary_type VARCHAR(30)\n",
        ");"
      ],
      "metadata": {
        "colab": {
          "base_uri": "https://localhost:8080/"
        },
        "id": "vH7xv-75d1Rx",
        "outputId": "4921c28d-93f0-44a8-bef5-47624c69f419"
      },
      "execution_count": 16,
      "outputs": [
        {
          "output_type": "stream",
          "name": "stdout",
          "text": [
            " * sqlite:///table_gen.db\n",
            "Done.\n"
          ]
        },
        {
          "output_type": "execute_result",
          "data": {
            "text/plain": [
              "[]"
            ]
          },
          "metadata": {},
          "execution_count": 16
        }
      ]
    },
    {
      "cell_type": "code",
      "source": [
        "%%sql INSERT INTO beneficiary_partner_data(partner_id, partner, village, beneficiaries, beneficiary_type) VALUES\n",
        "(1,'IRC','Balcad','1450','Individuals'),\n",
        "(2,'NRC','Balcad','50','Households'),\n",
        "(3,'SCI','Balcad','1123','Individuals'),\n",
        "(4,'IMC','Balcad','1245','Individuals'),\n",
        "(5,'SCI','Mareeray','5200','Individuals'),\n",
        "(6,'IMC','Mareeray','70','Households'),\n",
        "(7,'IRC','Mareeray','2100','Individuals'),\n",
        "(8,'CESVI','Mareeray','1800','Individuals'),\n",
        "(9,'SCI','Kulmis','1340','Individuals'),\n",
        "(10,'IMC','Kulmis','55','Households'),\n",
        "(11,'SCI','Kulmis','4500','Individuals'),\n",
        "(12,'IMC','Kulmis','1670','Individuals'),\n",
        "(13,'IMC','Sabuun','1340','Individuals'),\n",
        "(14,'IRC','Sabuun','66','Households'),\n",
        "(15,'CESVI','Sabuun','4090','Individuals'),\n",
        "(16,'SCI','Sabuun','2930','Individuals'),\n",
        "(17,'IMC','Bayaxaw','2800','Individuals'),\n",
        "(18,'IRC','Bayaxaw','2100','Individuals'),\n",
        "(19,'CESVI','Bayaxaw','45','Households'),\n",
        "(20,'SCI','Bayaxaw','1700','Individuals'),\n",
        "(21,'SCI','Bayaxawo','5900','Individuals'),\n",
        "(22,'IMC','Bayaxawo','40','Households'),\n",
        "(23,'IRC','Bayaxawo','1500','Individuals'),\n",
        "(24,'CESVI','Bayaxawo','1260','Individuals'),\n",
        "(25,'CESVI','Dharkenley','7880','Individuals'),\n",
        "(26,'IRC','Dharkenley','34','Households'),\n",
        "(27,'SCI','Bulo-Kahin','4300','Individuals'),\n",
        "(28,'IMC','Bulo-Kahin','4212','Individuals'),\n",
        "(29,'IRC','Bulo-Kahin','3200','Individuals'),\n",
        "(30,'IRC','Hilo Kelyo','5212','Individuals'),\n",
        "(31,'SCI','Hilo Kelyo','25','Households'),\n",
        "(32,'CESVI','Xubow','2157','Individuals'),\n",
        "(33,'IMC','Xiintooy','1667','Individuals'),\n",
        "(34,'IRC','Xiintooy','2667','Individuals'),\n",
        "(35,'CESVI','Dhagax Jebis','2856','Individuals'),\n",
        "(36,'CESVI','Filtare','7519','Individuals'),\n",
        "(37,'CESVI','Howl-Wadaag','6870','Individuals'),\n",
        "(38,'IMC','Howl-Wadaag','32','Households');\n"
      ],
      "metadata": {
        "colab": {
          "base_uri": "https://localhost:8080/"
        },
        "id": "RQ9bbtY1d-BM",
        "outputId": "c69459f2-6209-4f6a-ee5a-3af79b601f6b"
      },
      "execution_count": 17,
      "outputs": [
        {
          "output_type": "stream",
          "name": "stdout",
          "text": [
            " * sqlite:///table_gen.db\n",
            "38 rows affected.\n"
          ]
        },
        {
          "output_type": "execute_result",
          "data": {
            "text/plain": [
              "[]"
            ]
          },
          "metadata": {},
          "execution_count": 17
        }
      ]
    },
    {
      "cell_type": "code",
      "source": [
        "%sql SELECT * FROM beneficiary_partner_data"
      ],
      "metadata": {
        "colab": {
          "base_uri": "https://localhost:8080/",
          "height": 870
        },
        "id": "mIMnmBbFfquH",
        "outputId": "bc6eb145-05a5-44cf-e553-8a1a95478a43"
      },
      "execution_count": 19,
      "outputs": [
        {
          "output_type": "stream",
          "name": "stdout",
          "text": [
            " * sqlite:///table_gen.db\n",
            "Done.\n"
          ]
        },
        {
          "output_type": "execute_result",
          "data": {
            "text/plain": [
              "[(1, 'IRC', 'Balcad', 1450, 'Individuals'),\n",
              " (2, 'NRC', 'Balcad', 50, 'Households'),\n",
              " (3, 'SCI', 'Balcad', 1123, 'Individuals'),\n",
              " (4, 'IMC', 'Balcad', 1245, 'Individuals'),\n",
              " (5, 'SCI', 'Mareeray', 5200, 'Individuals'),\n",
              " (6, 'IMC', 'Mareeray', 70, 'Households'),\n",
              " (7, 'IRC', 'Mareeray', 2100, 'Individuals'),\n",
              " (8, 'CESVI', 'Mareeray', 1800, 'Individuals'),\n",
              " (9, 'SCI', 'Kulmis', 1340, 'Individuals'),\n",
              " (10, 'IMC', 'Kulmis', 55, 'Households'),\n",
              " (11, 'SCI', 'Kulmis', 4500, 'Individuals'),\n",
              " (12, 'IMC', 'Kulmis', 1670, 'Individuals'),\n",
              " (13, 'IMC', 'Sabuun', 1340, 'Individuals'),\n",
              " (14, 'IRC', 'Sabuun', 66, 'Households'),\n",
              " (15, 'CESVI', 'Sabuun', 4090, 'Individuals'),\n",
              " (16, 'SCI', 'Sabuun', 2930, 'Individuals'),\n",
              " (17, 'IMC', 'Bayaxaw', 2800, 'Individuals'),\n",
              " (18, 'IRC', 'Bayaxaw', 2100, 'Individuals'),\n",
              " (19, 'CESVI', 'Bayaxaw', 45, 'Households'),\n",
              " (20, 'SCI', 'Bayaxaw', 1700, 'Individuals'),\n",
              " (21, 'SCI', 'Bayaxawo', 5900, 'Individuals'),\n",
              " (22, 'IMC', 'Bayaxawo', 40, 'Households'),\n",
              " (23, 'IRC', 'Bayaxawo', 1500, 'Individuals'),\n",
              " (24, 'CESVI', 'Bayaxawo', 1260, 'Individuals'),\n",
              " (25, 'CESVI', 'Dharkenley', 7880, 'Individuals'),\n",
              " (26, 'IRC', 'Dharkenley', 34, 'Households'),\n",
              " (27, 'SCI', 'Bulo-Kahin', 4300, 'Individuals'),\n",
              " (28, 'IMC', 'Bulo-Kahin', 4212, 'Individuals'),\n",
              " (29, 'IRC', 'Bulo-Kahin', 3200, 'Individuals'),\n",
              " (30, 'IRC', 'Hilo Kelyo', 5212, 'Individuals'),\n",
              " (31, 'SCI', 'Hilo Kelyo', 25, 'Households'),\n",
              " (32, 'CESVI', 'Xubow', 2157, 'Individuals'),\n",
              " (33, 'IMC', 'Xiintooy', 1667, 'Individuals'),\n",
              " (34, 'IRC', 'Xiintooy', 2667, 'Individuals'),\n",
              " (35, 'CESVI', 'Dhagax Jebis', 2856, 'Individuals'),\n",
              " (36, 'CESVI', 'Filtare', 7519, 'Individuals'),\n",
              " (37, 'CESVI', 'Howl-Wadaag', 6870, 'Individuals'),\n",
              " (38, 'IMC', 'Howl-Wadaag', 32, 'Households')]"
            ],
            "text/html": [
              "<table>\n",
              "    <thead>\n",
              "        <tr>\n",
              "            <th>partner_id</th>\n",
              "            <th>partner</th>\n",
              "            <th>village</th>\n",
              "            <th>beneficiaries</th>\n",
              "            <th>beneficiary_type</th>\n",
              "        </tr>\n",
              "    </thead>\n",
              "    <tbody>\n",
              "        <tr>\n",
              "            <td>1</td>\n",
              "            <td>IRC</td>\n",
              "            <td>Balcad</td>\n",
              "            <td>1450</td>\n",
              "            <td>Individuals</td>\n",
              "        </tr>\n",
              "        <tr>\n",
              "            <td>2</td>\n",
              "            <td>NRC</td>\n",
              "            <td>Balcad</td>\n",
              "            <td>50</td>\n",
              "            <td>Households</td>\n",
              "        </tr>\n",
              "        <tr>\n",
              "            <td>3</td>\n",
              "            <td>SCI</td>\n",
              "            <td>Balcad</td>\n",
              "            <td>1123</td>\n",
              "            <td>Individuals</td>\n",
              "        </tr>\n",
              "        <tr>\n",
              "            <td>4</td>\n",
              "            <td>IMC</td>\n",
              "            <td>Balcad</td>\n",
              "            <td>1245</td>\n",
              "            <td>Individuals</td>\n",
              "        </tr>\n",
              "        <tr>\n",
              "            <td>5</td>\n",
              "            <td>SCI</td>\n",
              "            <td>Mareeray</td>\n",
              "            <td>5200</td>\n",
              "            <td>Individuals</td>\n",
              "        </tr>\n",
              "        <tr>\n",
              "            <td>6</td>\n",
              "            <td>IMC</td>\n",
              "            <td>Mareeray</td>\n",
              "            <td>70</td>\n",
              "            <td>Households</td>\n",
              "        </tr>\n",
              "        <tr>\n",
              "            <td>7</td>\n",
              "            <td>IRC</td>\n",
              "            <td>Mareeray</td>\n",
              "            <td>2100</td>\n",
              "            <td>Individuals</td>\n",
              "        </tr>\n",
              "        <tr>\n",
              "            <td>8</td>\n",
              "            <td>CESVI</td>\n",
              "            <td>Mareeray</td>\n",
              "            <td>1800</td>\n",
              "            <td>Individuals</td>\n",
              "        </tr>\n",
              "        <tr>\n",
              "            <td>9</td>\n",
              "            <td>SCI</td>\n",
              "            <td>Kulmis</td>\n",
              "            <td>1340</td>\n",
              "            <td>Individuals</td>\n",
              "        </tr>\n",
              "        <tr>\n",
              "            <td>10</td>\n",
              "            <td>IMC</td>\n",
              "            <td>Kulmis</td>\n",
              "            <td>55</td>\n",
              "            <td>Households</td>\n",
              "        </tr>\n",
              "        <tr>\n",
              "            <td>11</td>\n",
              "            <td>SCI</td>\n",
              "            <td>Kulmis</td>\n",
              "            <td>4500</td>\n",
              "            <td>Individuals</td>\n",
              "        </tr>\n",
              "        <tr>\n",
              "            <td>12</td>\n",
              "            <td>IMC</td>\n",
              "            <td>Kulmis</td>\n",
              "            <td>1670</td>\n",
              "            <td>Individuals</td>\n",
              "        </tr>\n",
              "        <tr>\n",
              "            <td>13</td>\n",
              "            <td>IMC</td>\n",
              "            <td>Sabuun</td>\n",
              "            <td>1340</td>\n",
              "            <td>Individuals</td>\n",
              "        </tr>\n",
              "        <tr>\n",
              "            <td>14</td>\n",
              "            <td>IRC</td>\n",
              "            <td>Sabuun</td>\n",
              "            <td>66</td>\n",
              "            <td>Households</td>\n",
              "        </tr>\n",
              "        <tr>\n",
              "            <td>15</td>\n",
              "            <td>CESVI</td>\n",
              "            <td>Sabuun</td>\n",
              "            <td>4090</td>\n",
              "            <td>Individuals</td>\n",
              "        </tr>\n",
              "        <tr>\n",
              "            <td>16</td>\n",
              "            <td>SCI</td>\n",
              "            <td>Sabuun</td>\n",
              "            <td>2930</td>\n",
              "            <td>Individuals</td>\n",
              "        </tr>\n",
              "        <tr>\n",
              "            <td>17</td>\n",
              "            <td>IMC</td>\n",
              "            <td>Bayaxaw</td>\n",
              "            <td>2800</td>\n",
              "            <td>Individuals</td>\n",
              "        </tr>\n",
              "        <tr>\n",
              "            <td>18</td>\n",
              "            <td>IRC</td>\n",
              "            <td>Bayaxaw</td>\n",
              "            <td>2100</td>\n",
              "            <td>Individuals</td>\n",
              "        </tr>\n",
              "        <tr>\n",
              "            <td>19</td>\n",
              "            <td>CESVI</td>\n",
              "            <td>Bayaxaw</td>\n",
              "            <td>45</td>\n",
              "            <td>Households</td>\n",
              "        </tr>\n",
              "        <tr>\n",
              "            <td>20</td>\n",
              "            <td>SCI</td>\n",
              "            <td>Bayaxaw</td>\n",
              "            <td>1700</td>\n",
              "            <td>Individuals</td>\n",
              "        </tr>\n",
              "        <tr>\n",
              "            <td>21</td>\n",
              "            <td>SCI</td>\n",
              "            <td>Bayaxawo</td>\n",
              "            <td>5900</td>\n",
              "            <td>Individuals</td>\n",
              "        </tr>\n",
              "        <tr>\n",
              "            <td>22</td>\n",
              "            <td>IMC</td>\n",
              "            <td>Bayaxawo</td>\n",
              "            <td>40</td>\n",
              "            <td>Households</td>\n",
              "        </tr>\n",
              "        <tr>\n",
              "            <td>23</td>\n",
              "            <td>IRC</td>\n",
              "            <td>Bayaxawo</td>\n",
              "            <td>1500</td>\n",
              "            <td>Individuals</td>\n",
              "        </tr>\n",
              "        <tr>\n",
              "            <td>24</td>\n",
              "            <td>CESVI</td>\n",
              "            <td>Bayaxawo</td>\n",
              "            <td>1260</td>\n",
              "            <td>Individuals</td>\n",
              "        </tr>\n",
              "        <tr>\n",
              "            <td>25</td>\n",
              "            <td>CESVI</td>\n",
              "            <td>Dharkenley</td>\n",
              "            <td>7880</td>\n",
              "            <td>Individuals</td>\n",
              "        </tr>\n",
              "        <tr>\n",
              "            <td>26</td>\n",
              "            <td>IRC</td>\n",
              "            <td>Dharkenley</td>\n",
              "            <td>34</td>\n",
              "            <td>Households</td>\n",
              "        </tr>\n",
              "        <tr>\n",
              "            <td>27</td>\n",
              "            <td>SCI</td>\n",
              "            <td>Bulo-Kahin</td>\n",
              "            <td>4300</td>\n",
              "            <td>Individuals</td>\n",
              "        </tr>\n",
              "        <tr>\n",
              "            <td>28</td>\n",
              "            <td>IMC</td>\n",
              "            <td>Bulo-Kahin</td>\n",
              "            <td>4212</td>\n",
              "            <td>Individuals</td>\n",
              "        </tr>\n",
              "        <tr>\n",
              "            <td>29</td>\n",
              "            <td>IRC</td>\n",
              "            <td>Bulo-Kahin</td>\n",
              "            <td>3200</td>\n",
              "            <td>Individuals</td>\n",
              "        </tr>\n",
              "        <tr>\n",
              "            <td>30</td>\n",
              "            <td>IRC</td>\n",
              "            <td>Hilo Kelyo</td>\n",
              "            <td>5212</td>\n",
              "            <td>Individuals</td>\n",
              "        </tr>\n",
              "        <tr>\n",
              "            <td>31</td>\n",
              "            <td>SCI</td>\n",
              "            <td>Hilo Kelyo</td>\n",
              "            <td>25</td>\n",
              "            <td>Households</td>\n",
              "        </tr>\n",
              "        <tr>\n",
              "            <td>32</td>\n",
              "            <td>CESVI</td>\n",
              "            <td>Xubow</td>\n",
              "            <td>2157</td>\n",
              "            <td>Individuals</td>\n",
              "        </tr>\n",
              "        <tr>\n",
              "            <td>33</td>\n",
              "            <td>IMC</td>\n",
              "            <td>Xiintooy</td>\n",
              "            <td>1667</td>\n",
              "            <td>Individuals</td>\n",
              "        </tr>\n",
              "        <tr>\n",
              "            <td>34</td>\n",
              "            <td>IRC</td>\n",
              "            <td>Xiintooy</td>\n",
              "            <td>2667</td>\n",
              "            <td>Individuals</td>\n",
              "        </tr>\n",
              "        <tr>\n",
              "            <td>35</td>\n",
              "            <td>CESVI</td>\n",
              "            <td>Dhagax Jebis</td>\n",
              "            <td>2856</td>\n",
              "            <td>Individuals</td>\n",
              "        </tr>\n",
              "        <tr>\n",
              "            <td>36</td>\n",
              "            <td>CESVI</td>\n",
              "            <td>Filtare</td>\n",
              "            <td>7519</td>\n",
              "            <td>Individuals</td>\n",
              "        </tr>\n",
              "        <tr>\n",
              "            <td>37</td>\n",
              "            <td>CESVI</td>\n",
              "            <td>Howl-Wadaag</td>\n",
              "            <td>6870</td>\n",
              "            <td>Individuals</td>\n",
              "        </tr>\n",
              "        <tr>\n",
              "            <td>38</td>\n",
              "            <td>IMC</td>\n",
              "            <td>Howl-Wadaag</td>\n",
              "            <td>32</td>\n",
              "            <td>Households</td>\n",
              "        </tr>\n",
              "    </tbody>\n",
              "</table>"
            ]
          },
          "metadata": {},
          "execution_count": 19
        }
      ]
    },
    {
      "cell_type": "markdown",
      "source": [
        "**jurisdiction_hierachy table**"
      ],
      "metadata": {
        "id": "JpFJpIgsgtKY"
      }
    },
    {
      "cell_type": "code",
      "source": [
        "%%sql CREATE TABLE jurisdiction_hierachy (\n",
        "    partner_id INT NOT NULL PRIMARY KEY,\n",
        "    partner VARCHAR(20) UNIQUE,\n",
        "    village VARCHAR(15),\n",
        "    beneficiaries VARCHAR(20),\n",
        "    beneficiary_type VARCHAR(20)\n",
        ")"
      ],
      "metadata": {
        "id": "qgPuoEe3g9XH"
      },
      "execution_count": null,
      "outputs": []
    },
    {
      "cell_type": "code",
      "source": [
        "%%sql INSERT INTO jurisdiction_hierachy (partner_id, village, )\n",
        "(1,'Middle Shabelle','Region',NULL);\n",
        "(2,'Hiraan','Region',NULL);\n",
        "(3,'Balcad','District','Middle Shabelle');\n",
        "(4,'Jowhar','District','Middle Shabelle');\n",
        "(5,'Beledweyn','District','Hiraan');\n",
        "(6,'Dharkenley','Village','Beledweyn');\n",
        "(7,'Bulo-Kahin','Village','Beledweyn');\n",
        "(8,'Hilo Kelyo','Village','Beledweyn');\n",
        "(9,'Xubow','Village','Beledweyn');\n",
        "(10,'Xiintooy','Village','Beledweyn');\n",
        "(11,'Dhagax Jebis','Village','Beledweyn');\n",
        "(12,'Filtare','Village','Beledweyn');\n",
        "(13,'Howl-Wadaag','Village','Beledweyn');\n",
        "(14,'Balcad','Village','Balcad');\n",
        "(15,'Mareeray','Village','Balcad');\n",
        "(16,'Kulmis','Village','Balcad');\n",
        "(17,'Sabuun','Village','Jowhar');\n",
        "(18,'Bayaxaw','Village','Jowhar');"
      ],
      "metadata": {
        "id": "Lf64iZclhR7D"
      },
      "execution_count": null,
      "outputs": []
    },
    {
      "cell_type": "markdown",
      "source": [
        "**2. Write a SQL script that creates the following summary tables (can be tables or views):\n",
        "\n",
        "  a) ****District_summary****.\n",
        "\n",
        "> i) District Name\n",
        "> ii) Region Name\n",
        "> iii) No. of Individual Beneficiaries (1HH = 6 Individuals)\n",
        "> iv) No. of Individual Beneficiaries / Total District Population**"
      ],
      "metadata": {
        "id": "GZvFBgKwjItv"
      }
    },
    {
      "cell_type": "code",
      "source": [
        "%%sql CREATE VIEW District_summary AS\n",
        "SELECT J.district_name AS District_Name,\n",
        "       J.region_name AS Region_Name,\n",
        "       SUM(P.beneficiaries) AS No_of_Individual_Beneficiaries,\n",
        "       (SUM(P.beneficiaries) / R.total_population) AS No_of_Individual_Beneficiaries_by_Population\n",
        "FROM Programme_Data P\n",
        "JOIN Village_Location V ON P.village = V.village_name\n",
        "JOIN Jurisdiction_Hierarchy J ON V.district_id = J.district_id\n",
        "JOIN (\n",
        "    SELECT district_id, SUM(population) AS total_population\n",
        "    FROM Jurisdiction_Hierarchy\n",
        "    GROUP BY district_id\n",
        ") R ON R.district_id = J.district_id\n",
        "GROUP BY J.district_name, J.region_name;"
      ],
      "metadata": {
        "colab": {
          "base_uri": "https://localhost:8080/"
        },
        "id": "dy2rVtMAjW70",
        "outputId": "be0eb2ec-5965-4c42-f25e-4a0d7003742e"
      },
      "execution_count": 21,
      "outputs": [
        {
          "output_type": "stream",
          "name": "stdout",
          "text": [
            " * sqlite:///table_gen.db\n",
            "Done.\n"
          ]
        },
        {
          "output_type": "execute_result",
          "data": {
            "text/plain": [
              "[]"
            ]
          },
          "metadata": {},
          "execution_count": 21
        }
      ]
    }
  ]
}